{
 "cells": [
  {
   "cell_type": "markdown",
   "metadata": {},
   "source": [
    "# Job Watch Analytics"
   ]
  },
  {
   "cell_type": "markdown",
   "metadata": {},
   "source": [
    "##### INIT (Run Once)"
   ]
  },
  {
   "cell_type": "code",
   "execution_count": null,
   "metadata": {},
   "outputs": [],
   "source": [
    "import os\n",
    "import pandas as pd\n",
    "import matplotlib.pyplot as plt"
   ]
  },
  {
   "cell_type": "markdown",
   "metadata": {},
   "source": [
    "##### Set Variables"
   ]
  },
  {
   "cell_type": "code",
   "execution_count": null,
   "metadata": {},
   "outputs": [],
   "source": [
    "result_dir = 'results/'\n",
    "data_headers = ['Date', 'Time', 'Keyword', 'Location', 'Count']\n",
    "\n",
    "keywords = ['angular', 'javascript', 'node', 'python', 'react', 'sql']\n",
    "location = 'austin'"
   ]
  },
  {
   "cell_type": "markdown",
   "metadata": {},
   "source": [
    "##### Load All Result Data"
   ]
  },
  {
   "cell_type": "code",
   "execution_count": null,
   "metadata": {},
   "outputs": [],
   "source": [
    "# Read all CSV Files\n",
    "def read_all_results():\n",
    "    datasets = []\n",
    "    filenames = os.listdir(result_dir)\n",
    "\n",
    "    for file in filenames:\n",
    "        datasets.append(pd.read_csv(f'{result_dir}{file}', header=None))\n",
    "\n",
    "    return datasets\n",
    "\n",
    "# Create DataFrame\n",
    "df = pd.concat(read_all_results(), ignore_index=True)\n",
    "df.columns = data_headers\n",
    "\n",
    "df.head()"
   ]
  },
  {
   "cell_type": "markdown",
   "metadata": {},
   "source": [
    "##### Sorted Data"
   ]
  },
  {
   "cell_type": "code",
   "execution_count": null,
   "metadata": {},
   "outputs": [],
   "source": [
    "def sort_data(sort_by, ascending = True):\n",
    "    return df.sort_values(by=sort_by, ascending=ascending, ignore_index=True)\n",
    "\n",
    "\n",
    "sort_data('Count').head()"
   ]
  },
  {
   "cell_type": "markdown",
   "metadata": {},
   "source": [
    "##### Plot All Data At Location"
   ]
  },
  {
   "cell_type": "code",
   "execution_count": null,
   "metadata": {},
   "outputs": [],
   "source": [
    "def plot_all_data(x_axis, y_axis, args = {'size_x': None, 'size_y': None}):\n",
    "    # Initialize plot\n",
    "    fig, ax = plt.subplots()\n",
    "    ax.set_xlabel(x_axis)\n",
    "    ax.set_ylabel(y_axis)\n",
    "\n",
    "    ## Initialize figure\n",
    "    if args['size_x'] and args['size_y']:\n",
    "        fig.set_size_inches(18.5, 10.5)\n",
    "\n",
    "    # Plot data\n",
    "    for keyword in keywords:\n",
    "        data = df[df['Keyword'] == keyword]\n",
    "        ax.plot(data[x_axis], data[y_axis], label=keyword)\n",
    "        \n",
    "    ax.legend(loc=\"upper left\")\n",
    "    \n",
    "\n",
    "plot_all_data('Date', 'Count', {'size_x': 10.5, 'size_y': 5.5})"
   ]
  }
 ],
 "metadata": {
  "interpreter": {
   "hash": "f9c91ce93a00866b7fcb959cd1f4c5e3daea64f7ccf2e2efbe8a2396d25babb5"
  },
  "kernelspec": {
   "display_name": "Python 3.8.10 64-bit ('venv': venv)",
   "language": "python",
   "name": "python3"
  },
  "language_info": {
   "codemirror_mode": {
    "name": "ipython",
    "version": 3
   },
   "file_extension": ".py",
   "mimetype": "text/x-python",
   "name": "python",
   "nbconvert_exporter": "python",
   "pygments_lexer": "ipython3",
   "version": "3.8.10"
  },
  "orig_nbformat": 4
 },
 "nbformat": 4,
 "nbformat_minor": 2
}

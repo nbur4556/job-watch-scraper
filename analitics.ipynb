{
 "cells": [
  {
   "cell_type": "markdown",
   "metadata": {},
   "source": [
    "##### INIT (Run Once)"
   ]
  },
  {
   "cell_type": "code",
   "execution_count": 15,
   "metadata": {},
   "outputs": [],
   "source": [
    "import os\n",
    "import pandas as pd\n"
   ]
  },
  {
   "cell_type": "markdown",
   "metadata": {},
   "source": [
    "##### Set Variables"
   ]
  },
  {
   "cell_type": "code",
   "execution_count": 25,
   "metadata": {},
   "outputs": [],
   "source": [
    "result_dir = 'results/'"
   ]
  },
  {
   "cell_type": "markdown",
   "metadata": {},
   "source": [
    "##### Load Data"
   ]
  },
  {
   "cell_type": "code",
   "execution_count": 26,
   "metadata": {},
   "outputs": [
    {
     "name": "stdout",
     "output_type": "stream",
     "text": [
      "         DATE             TIME     KEYWORD  LOCATION   COUNT\n",
      "0  2021-12-07  09:30:38.258867      python    austin     113\n",
      "0  2021-12-07  09:31:09.838237  javascript    austin      81\n",
      "0  2021-12-07  09:31:40.743917     angular    austin      17\n",
      "0  2021-12-07  09:31:25.068243       react    austin      48\n",
      "0  2021-12-07  09:31:30.935813        node    austin      14\n",
      "         DATE             TIME     KEYWORD  LOCATION   COUNT\n",
      "0  2021-12-07  09:30:38.258867      python    austin     113\n",
      "0  2021-12-07  09:31:09.838237  javascript    austin      81\n",
      "0  2021-12-07  09:31:40.743917     angular    austin      17\n",
      "0  2021-12-07  09:31:25.068243       react    austin      48\n",
      "0  2021-12-07  09:31:30.935813        node    austin      14\n",
      "0  2021-12-07  09:31:16.879877         sql    austin     121\n"
     ]
    }
   ],
   "source": [
    "def read_file(filename):\n",
    "    return pd.read_csv(f'{result_dir}{filename}')\n",
    "\n",
    "def read_all_results():\n",
    "    filenames = os.listdir(result_dir)\n",
    "    datasets = map(read_file, filenames)\n",
    "    return pd.concat(datasets)\n",
    "\n",
    "all_data = read_all_results()\n",
    "print(all_data.head())"
   ]
  }
 ],
 "metadata": {
  "interpreter": {
   "hash": "f9c91ce93a00866b7fcb959cd1f4c5e3daea64f7ccf2e2efbe8a2396d25babb5"
  },
  "kernelspec": {
   "display_name": "Python 3.8.10 64-bit ('venv': venv)",
   "language": "python",
   "name": "python3"
  },
  "language_info": {
   "codemirror_mode": {
    "name": "ipython",
    "version": 3
   },
   "file_extension": ".py",
   "mimetype": "text/x-python",
   "name": "python",
   "nbconvert_exporter": "python",
   "pygments_lexer": "ipython3",
   "version": "3.8.10"
  },
  "orig_nbformat": 4
 },
 "nbformat": 4,
 "nbformat_minor": 2
}

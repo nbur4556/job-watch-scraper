{
 "cells": [
  {
   "cell_type": "markdown",
   "metadata": {},
   "source": [
    "# Job Watch Analytics"
   ]
  },
  {
   "cell_type": "markdown",
   "metadata": {},
   "source": [
    "##### INIT (Run Once)"
   ]
  },
  {
   "cell_type": "code",
   "execution_count": 2,
   "metadata": {},
   "outputs": [],
   "source": [
    "import os\n",
    "import pandas as pd\n",
    "import matplotlib.pyplot as plt"
   ]
  },
  {
   "cell_type": "markdown",
   "metadata": {},
   "source": [
    "##### Set Variables"
   ]
  },
  {
   "cell_type": "code",
   "execution_count": 147,
   "metadata": {},
   "outputs": [],
   "source": [
    "result_dir = 'results/'\n",
    "data_headers = ['Date', 'Time', 'Keyword', 'Location', 'Count']\n",
    "\n",
    "keywords = ['angular', 'javascript', 'node', 'python', 'react', 'sql']\n",
    "location = 'austin'"
   ]
  },
  {
   "cell_type": "markdown",
   "metadata": {},
   "source": [
    "##### Load All Result Data"
   ]
  },
  {
   "cell_type": "code",
   "execution_count": 167,
   "metadata": {},
   "outputs": [
    {
     "data": {
      "text/html": [
       "<div>\n",
       "<style scoped>\n",
       "    .dataframe tbody tr th:only-of-type {\n",
       "        vertical-align: middle;\n",
       "    }\n",
       "\n",
       "    .dataframe tbody tr th {\n",
       "        vertical-align: top;\n",
       "    }\n",
       "\n",
       "    .dataframe thead th {\n",
       "        text-align: right;\n",
       "    }\n",
       "</style>\n",
       "<table border=\"1\" class=\"dataframe\">\n",
       "  <thead>\n",
       "    <tr style=\"text-align: right;\">\n",
       "      <th></th>\n",
       "      <th>Date</th>\n",
       "      <th>Time</th>\n",
       "      <th>Keyword</th>\n",
       "      <th>Location</th>\n",
       "      <th>Count</th>\n",
       "    </tr>\n",
       "  </thead>\n",
       "  <tbody>\n",
       "    <tr>\n",
       "      <th>0</th>\n",
       "      <td>2021-12-07</td>\n",
       "      <td>09:30:38.258867</td>\n",
       "      <td>python</td>\n",
       "      <td>austin</td>\n",
       "      <td>113</td>\n",
       "    </tr>\n",
       "    <tr>\n",
       "      <th>1</th>\n",
       "      <td>2021-12-08</td>\n",
       "      <td>12:04:50.071836</td>\n",
       "      <td>python</td>\n",
       "      <td>austin</td>\n",
       "      <td>156</td>\n",
       "    </tr>\n",
       "    <tr>\n",
       "      <th>2</th>\n",
       "      <td>2021-12-09</td>\n",
       "      <td>16:58:44.075794</td>\n",
       "      <td>python</td>\n",
       "      <td>austin</td>\n",
       "      <td>192</td>\n",
       "    </tr>\n",
       "    <tr>\n",
       "      <th>3</th>\n",
       "      <td>2021-12-07</td>\n",
       "      <td>09:31:09.838237</td>\n",
       "      <td>javascript</td>\n",
       "      <td>austin</td>\n",
       "      <td>81</td>\n",
       "    </tr>\n",
       "    <tr>\n",
       "      <th>4</th>\n",
       "      <td>2021-12-08</td>\n",
       "      <td>12:04:32.472455</td>\n",
       "      <td>javascript</td>\n",
       "      <td>austin</td>\n",
       "      <td>117</td>\n",
       "    </tr>\n",
       "  </tbody>\n",
       "</table>\n",
       "</div>"
      ],
      "text/plain": [
       "         Date             Time     Keyword Location  Count\n",
       "0  2021-12-07  09:30:38.258867      python   austin    113\n",
       "1  2021-12-08  12:04:50.071836      python   austin    156\n",
       "2  2021-12-09  16:58:44.075794      python   austin    192\n",
       "3  2021-12-07  09:31:09.838237  javascript   austin     81\n",
       "4  2021-12-08  12:04:32.472455  javascript   austin    117"
      ]
     },
     "execution_count": 167,
     "metadata": {},
     "output_type": "execute_result"
    }
   ],
   "source": [
    "# Read all CSV Files\n",
    "def read_all_results():\n",
    "    datasets = []\n",
    "    filenames = os.listdir(result_dir)\n",
    "\n",
    "    for file in filenames:\n",
    "        datasets.append(pd.read_csv(f'{result_dir}{file}', header=None))\n",
    "\n",
    "    return datasets\n",
    "\n",
    "# Create DataFrame\n",
    "df = pd.concat(read_all_results(), ignore_index=True)\n",
    "df.columns = data_headers\n",
    "\n",
    "df.head()"
   ]
  },
  {
   "cell_type": "markdown",
   "metadata": {},
   "source": [
    "##### Sorted Data"
   ]
  },
  {
   "cell_type": "code",
   "execution_count": 175,
   "metadata": {},
   "outputs": [
    {
     "data": {
      "text/html": [
       "<div>\n",
       "<style scoped>\n",
       "    .dataframe tbody tr th:only-of-type {\n",
       "        vertical-align: middle;\n",
       "    }\n",
       "\n",
       "    .dataframe tbody tr th {\n",
       "        vertical-align: top;\n",
       "    }\n",
       "\n",
       "    .dataframe thead th {\n",
       "        text-align: right;\n",
       "    }\n",
       "</style>\n",
       "<table border=\"1\" class=\"dataframe\">\n",
       "  <thead>\n",
       "    <tr style=\"text-align: right;\">\n",
       "      <th></th>\n",
       "      <th>Date</th>\n",
       "      <th>Time</th>\n",
       "      <th>Keyword</th>\n",
       "      <th>Location</th>\n",
       "      <th>Count</th>\n",
       "    </tr>\n",
       "  </thead>\n",
       "  <tbody>\n",
       "    <tr>\n",
       "      <th>0</th>\n",
       "      <td>2021-12-07</td>\n",
       "      <td>09:31:30.935813</td>\n",
       "      <td>node</td>\n",
       "      <td>austin</td>\n",
       "      <td>14</td>\n",
       "    </tr>\n",
       "    <tr>\n",
       "      <th>1</th>\n",
       "      <td>2021-12-07</td>\n",
       "      <td>09:31:40.743917</td>\n",
       "      <td>angular</td>\n",
       "      <td>austin</td>\n",
       "      <td>17</td>\n",
       "    </tr>\n",
       "    <tr>\n",
       "      <th>2</th>\n",
       "      <td>2021-12-08</td>\n",
       "      <td>12:04:42.711744</td>\n",
       "      <td>node</td>\n",
       "      <td>austin</td>\n",
       "      <td>24</td>\n",
       "    </tr>\n",
       "    <tr>\n",
       "      <th>3</th>\n",
       "      <td>2021-12-09</td>\n",
       "      <td>16:58:37.896990</td>\n",
       "      <td>node</td>\n",
       "      <td>austin</td>\n",
       "      <td>27</td>\n",
       "    </tr>\n",
       "    <tr>\n",
       "      <th>4</th>\n",
       "      <td>2021-12-08</td>\n",
       "      <td>12:04:19.397448</td>\n",
       "      <td>angular</td>\n",
       "      <td>austin</td>\n",
       "      <td>36</td>\n",
       "    </tr>\n",
       "  </tbody>\n",
       "</table>\n",
       "</div>"
      ],
      "text/plain": [
       "         Date             Time  Keyword Location  Count\n",
       "0  2021-12-07  09:31:30.935813     node   austin     14\n",
       "1  2021-12-07  09:31:40.743917  angular   austin     17\n",
       "2  2021-12-08  12:04:42.711744     node   austin     24\n",
       "3  2021-12-09  16:58:37.896990     node   austin     27\n",
       "4  2021-12-08  12:04:19.397448  angular   austin     36"
      ]
     },
     "execution_count": 175,
     "metadata": {},
     "output_type": "execute_result"
    }
   ],
   "source": [
    "def sort_data(sort_by, ascending = True):\n",
    "    return df.sort_values(by=sort_by, ascending=ascending, ignore_index=True)\n",
    "\n",
    "\n",
    "sort_data('Count').head()"
   ]
  },
  {
   "cell_type": "markdown",
   "metadata": {},
   "source": [
    "##### Plot All Data At Location"
   ]
  },
  {
   "cell_type": "code",
   "execution_count": 180,
   "metadata": {},
   "outputs": [
    {
     "data": {
      "image/png": "[encoded data removed]",
      "text/plain": [
       "<Figure size 432x288 with 1 Axes>"
      ]
     },
     "metadata": {
      "needs_background": "light"
     },
     "output_type": "display_data"
    }
   ],
   "source": [
    "def plot_all_data(x_axis, y_axis):\n",
    "    # Initialize plot\n",
    "    fig, ax = plt.subplots()\n",
    "    ax.set_xlabel(x_axis)\n",
    "    ax.set_ylabel(y_axis)\n",
    "\n",
    "    # Plot data\n",
    "    for keyword in keywords:\n",
    "        data = df[df['Keyword'] == keyword]\n",
    "        ax.plot(data[x_axis], data[y_axis], label=keyword)\n",
    "        \n",
    "    ax.legend(loc=\"upper left\")\n",
    "    \n",
    "\n",
    "plot_all_data('Date', 'Count')"
   ]
  }
 ],
 "metadata": {
  "interpreter": {
   "hash": "f9c91ce93a00866b7fcb959cd1f4c5e3daea64f7ccf2e2efbe8a2396d25babb5"
  },
  "kernelspec": {
   "display_name": "Python 3.8.10 64-bit ('venv': venv)",
   "language": "python",
   "name": "python3"
  },
  "language_info": {
   "codemirror_mode": {
    "name": "ipython",
    "version": 3
   },
   "file_extension": ".py",
   "mimetype": "text/x-python",
   "name": "python",
   "nbconvert_exporter": "python",
   "pygments_lexer": "ipython3",
   "version": "3.8.10"
  },
  "orig_nbformat": 4
 },
 "nbformat": 4,
 "nbformat_minor": 2
}
